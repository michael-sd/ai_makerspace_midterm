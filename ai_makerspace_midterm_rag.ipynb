{
 "cells": [
  {
   "cell_type": "markdown",
   "metadata": {},
   "source": [
    "## AI Makerspace Midterm Assessment RAG Pipeline with RAGAS Evaluation"
   ]
  },
  {
   "cell_type": "markdown",
   "metadata": {},
   "source": [
    "#### Install langchain dependencies"
   ]
  },
  {
   "cell_type": "code",
   "execution_count": 1,
   "metadata": {},
   "outputs": [],
   "source": [
    "!pip install -U -q langchain langchain-openai langchain_core langchain-community langchainhub openai"
   ]
  },
  {
   "cell_type": "markdown",
   "metadata": {},
   "source": [
    "#### Install ragas"
   ]
  },
  {
   "cell_type": "code",
   "execution_count": 2,
   "metadata": {},
   "outputs": [],
   "source": [
    "!pip install -qU ragas"
   ]
  },
  {
   "cell_type": "markdown",
   "metadata": {},
   "source": [
    "#### Install FAISS, pymupdf and pandas"
   ]
  },
  {
   "cell_type": "code",
   "execution_count": 3,
   "metadata": {},
   "outputs": [],
   "source": [
    "!pip install -qU faiss_cpu pymupdf pandas"
   ]
  },
  {
   "cell_type": "markdown",
   "metadata": {},
   "source": [
    "#### Set environment variables"
   ]
  },
  {
   "cell_type": "code",
   "execution_count": 22,
   "metadata": {},
   "outputs": [],
   "source": [
    "import os\n",
    "import openai\n",
    "from getpass import getpass\n",
    "\n",
    "openai.api_key = getpass(\"Please provide your OpenAI Key: \")\n",
    "os.environ[\"OPENAI_API_KEY\"] = openai.api_key"
   ]
  },
  {
   "cell_type": "markdown",
   "metadata": {},
   "source": [
    "#### Load in NVIDIA data"
   ]
  },
  {
   "cell_type": "code",
   "execution_count": 23,
   "metadata": {},
   "outputs": [],
   "source": [
    "from langchain_community.document_loaders import PyMuPDFLoader\n",
    "\n",
    "loader = PyMuPDFLoader(\n",
    "    \"data/nvidia.pdf\",\n",
    ")\n",
    "\n",
    "documents = loader.load()"
   ]
  },
  {
   "cell_type": "markdown",
   "metadata": {},
   "source": [
    "#### Transform the data"
   ]
  },
  {
   "cell_type": "code",
   "execution_count": 24,
   "metadata": {},
   "outputs": [],
   "source": [
    "from langchain.text_splitter import RecursiveCharacterTextSplitter\n",
    "\n",
    "text_splitter = RecursiveCharacterTextSplitter(\n",
    "    chunk_size = 700,\n",
    "    chunk_overlap = 50\n",
    ")\n",
    "\n",
    "documents = text_splitter.split_documents(documents)"
   ]
  },
  {
   "cell_type": "code",
   "execution_count": 25,
   "metadata": {},
   "outputs": [
    {
     "data": {
      "text/plain": [
       "624"
      ]
     },
     "execution_count": 25,
     "metadata": {},
     "output_type": "execute_result"
    }
   ],
   "source": [
    "len(documents)"
   ]
  },
  {
   "cell_type": "markdown",
   "metadata": {},
   "source": [
    "#### Load our OpenAI Embeddings Model"
   ]
  },
  {
   "cell_type": "code",
   "execution_count": 26,
   "metadata": {},
   "outputs": [],
   "source": [
    "from langchain_openai import OpenAIEmbeddings\n",
    "\n",
    "embeddings = OpenAIEmbeddings(\n",
    "    model=\"text-embedding-3-small\"\n",
    ")"
   ]
  },
  {
   "cell_type": "markdown",
   "metadata": {},
   "source": [
    "#### Create our FAISS VectorStore"
   ]
  },
  {
   "cell_type": "code",
   "execution_count": 27,
   "metadata": {},
   "outputs": [],
   "source": [
    "from langchain_community.vectorstores import FAISS\n",
    "\n",
    "vector_store = FAISS.from_documents(documents, embeddings)"
   ]
  },
  {
   "cell_type": "markdown",
   "metadata": {},
   "source": [
    "#### Create a Retriever"
   ]
  },
  {
   "cell_type": "code",
   "execution_count": 28,
   "metadata": {},
   "outputs": [],
   "source": [
    "retriever = vector_store.as_retriever()"
   ]
  },
  {
   "cell_type": "markdown",
   "metadata": {},
   "source": [
    "#### Create Prompt template"
   ]
  },
  {
   "cell_type": "code",
   "execution_count": 29,
   "metadata": {},
   "outputs": [],
   "source": [
    "from langchain.prompts import ChatPromptTemplate\n",
    "\n",
    "template = \"\"\"Answer the question based only on the following context. If you cannot answer the question with the context, please respond with 'I don't know':\n",
    "\n",
    "Context:\n",
    "{context}\n",
    "\n",
    "Question:\n",
    "{question}\n",
    "\"\"\"\n",
    "\n",
    "prompt = ChatPromptTemplate.from_template(template)"
   ]
  },
  {
   "cell_type": "markdown",
   "metadata": {},
   "source": [
    "#### Set up and Instantiate our QA Chain"
   ]
  },
  {
   "cell_type": "code",
   "execution_count": 45,
   "metadata": {},
   "outputs": [],
   "source": [
    "from operator import itemgetter\n",
    "\n",
    "from langchain_openai import ChatOpenAI\n",
    "from langchain_core.output_parsers import StrOutputParser\n",
    "from langchain_core.runnables import RunnablePassthrough\n",
    "\n",
    "qa_llm = ChatOpenAI(model_name=\"gpt-3.5-turbo\", temperature=0)\n",
    "\n",
    "retrieval_augmented_qa_chain = (\n",
    "    {\"context\": itemgetter(\"question\") | retriever, \"question\": itemgetter(\"question\")}\n",
    "    | RunnablePassthrough.assign(context=itemgetter(\"context\"))\n",
    "    | {\"response\": prompt | qa_llm, \"context\": itemgetter(\"context\")}\n",
    ")"
   ]
  },
  {
   "cell_type": "markdown",
   "metadata": {},
   "source": [
    "#### Task 1: \n",
    "\n",
    "#### Prompt for \"Who is the E-VP, Operations - and how old are they?\""
   ]
  },
  {
   "cell_type": "code",
   "execution_count": 46,
   "metadata": {},
   "outputs": [
    {
     "name": "stdout",
     "output_type": "stream",
     "text": [
      "Debora Shoquist is the Executive Vice President, Operations, and she is 69 years old.\n"
     ]
    }
   ],
   "source": [
    "question = \"Who is the E-VP, Operations - and how old are they?\"\n",
    "\n",
    "result = retrieval_augmented_qa_chain.invoke({\"question\" : question})\n",
    "\n",
    "print(result[\"response\"].content)"
   ]
  },
  {
   "cell_type": "markdown",
   "metadata": {},
   "source": [
    "#### Task 2: \n",
    "\n",
    "#### Prompt for \"What is the gross carrying amount of Total Amortizable Intangible Assets for Jan 29, 2023?\""
   ]
  },
  {
   "cell_type": "code",
   "execution_count": 32,
   "metadata": {},
   "outputs": [
    {
     "name": "stdout",
     "output_type": "stream",
     "text": [
      "$3,539\n"
     ]
    }
   ],
   "source": [
    "question = \"What is the gross carrying amount of Total Amortizable Intangible Assets for Jan 29, 2023?\"\n",
    "\n",
    "result = retrieval_augmented_qa_chain.invoke({\"question\" : question})\n",
    "\n",
    "print(result[\"response\"].content)"
   ]
  },
  {
   "cell_type": "markdown",
   "metadata": {},
   "source": [
    "### RAGAS Evaluation"
   ]
  },
  {
   "cell_type": "markdown",
   "metadata": {},
   "source": [
    "#### Synthetic test generation"
   ]
  },
  {
   "cell_type": "code",
   "execution_count": 33,
   "metadata": {},
   "outputs": [],
   "source": [
    "eval_documents = documents\n",
    "\n",
    "text_splitter = RecursiveCharacterTextSplitter(\n",
    "    chunk_size = 1500,\n",
    "    chunk_overlap = 400\n",
    ")\n",
    "\n",
    "eval_documents = text_splitter.split_documents(eval_documents)"
   ]
  },
  {
   "cell_type": "markdown",
   "metadata": {},
   "source": [
    "#### Generate test questions"
   ]
  },
  {
   "cell_type": "code",
   "execution_count": 36,
   "metadata": {},
   "outputs": [
    {
     "name": "stderr",
     "output_type": "stream",
     "text": [
      "/var/folders/5g/w7kfn09d04vcl31v3w8xlz340000gn/T/ipykernel_8662/3185854920.py:4: DeprecationWarning: The function with_openai was deprecated in 0.1.4, and will be removed in the 0.2.0 release. Use from_langchain instead.\n",
      "  generator = TestsetGenerator.with_openai()\n"
     ]
    },
    {
     "data": {
      "application/vnd.jupyter.widget-view+json": {
       "model_id": "344e96e5049044c291d129c8d57a2580",
       "version_major": 2,
       "version_minor": 0
      },
      "text/plain": [
       "embedding nodes:   0%|          | 0/1248 [00:00<?, ?it/s]"
      ]
     },
     "metadata": {},
     "output_type": "display_data"
    },
    {
     "name": "stderr",
     "output_type": "stream",
     "text": [
      "Filename and doc_id are the same for all nodes.\n"
     ]
    },
    {
     "data": {
      "application/vnd.jupyter.widget-view+json": {
       "model_id": "48b7a7d085b3492bac5d8766d1e59a1c",
       "version_major": 2,
       "version_minor": 0
      },
      "text/plain": [
       "Generating:   0%|          | 0/8 [00:00<?, ?it/s]"
      ]
     },
     "metadata": {},
     "output_type": "display_data"
    }
   ],
   "source": [
    "from ragas.testset.generator import TestsetGenerator\n",
    "from ragas.testset.evolutions import simple, reasoning, multi_context\n",
    "\n",
    "generator = TestsetGenerator.with_openai()\n",
    "\n",
    "testset = generator.generate_with_langchain_docs(documents, test_size=8, distributions={simple: 0.25, reasoning: 0.25, multi_context: 0.5})"
   ]
  },
  {
   "cell_type": "code",
   "execution_count": 37,
   "metadata": {},
   "outputs": [
    {
     "data": {
      "text/html": [
       "<div>\n",
       "<style scoped>\n",
       "    .dataframe tbody tr th:only-of-type {\n",
       "        vertical-align: middle;\n",
       "    }\n",
       "\n",
       "    .dataframe tbody tr th {\n",
       "        vertical-align: top;\n",
       "    }\n",
       "\n",
       "    .dataframe thead th {\n",
       "        text-align: right;\n",
       "    }\n",
       "</style>\n",
       "<table border=\"1\" class=\"dataframe\">\n",
       "  <thead>\n",
       "    <tr style=\"text-align: right;\">\n",
       "      <th></th>\n",
       "      <th>question</th>\n",
       "      <th>contexts</th>\n",
       "      <th>ground_truth</th>\n",
       "      <th>evolution_type</th>\n",
       "      <th>episode_done</th>\n",
       "    </tr>\n",
       "  </thead>\n",
       "  <tbody>\n",
       "    <tr>\n",
       "      <th>0</th>\n",
       "      <td>How has the NVIDIA accelerated computing platf...</td>\n",
       "      <td>[Table of Contents\\nAt the foundation of the N...</td>\n",
       "      <td>The NVIDIA accelerated computing platform has ...</td>\n",
       "      <td>simple</td>\n",
       "      <td>True</td>\n",
       "    </tr>\n",
       "    <tr>\n",
       "      <th>1</th>\n",
       "      <td>What types of facilities are included in the l...</td>\n",
       "      <td>[Termination of the Arm Share Purchase Agreeme...</td>\n",
       "      <td>The lease obligations of the company primarily...</td>\n",
       "      <td>simple</td>\n",
       "      <td>True</td>\n",
       "    </tr>\n",
       "    <tr>\n",
       "      <th>2</th>\n",
       "      <td>How can government actions impact a company's ...</td>\n",
       "      <td>[business and results of operations.\\nGovernme...</td>\n",
       "      <td>Government actions, including trade protection...</td>\n",
       "      <td>reasoning</td>\n",
       "      <td>True</td>\n",
       "    </tr>\n",
       "    <tr>\n",
       "      <th>3</th>\n",
       "      <td>What factors led to the determination that inv...</td>\n",
       "      <td>[conditions. As of January 28, 2024, the Compa...</td>\n",
       "      <td>The significant judgment by management when de...</td>\n",
       "      <td>reasoning</td>\n",
       "      <td>True</td>\n",
       "    </tr>\n",
       "    <tr>\n",
       "      <th>4</th>\n",
       "      <td>How does the company depend on external partie...</td>\n",
       "      <td>[Table of Contents\\nGPUs, which could negative...</td>\n",
       "      <td>The company depends on developers, customers, ...</td>\n",
       "      <td>multi_context</td>\n",
       "      <td>True</td>\n",
       "    </tr>\n",
       "    <tr>\n",
       "      <th>5</th>\n",
       "      <td>What are the potential consequences of export ...</td>\n",
       "      <td>[Additional unilateral or multilateral control...</td>\n",
       "      <td>Additional export restrictions and foreign gov...</td>\n",
       "      <td>multi_context</td>\n",
       "      <td>True</td>\n",
       "    </tr>\n",
       "    <tr>\n",
       "      <th>6</th>\n",
       "      <td>What are the risks of estimating customer dema...</td>\n",
       "      <td>[to some of ours and can use or develop their ...</td>\n",
       "      <td>Failure to estimate customer demand accurately...</td>\n",
       "      <td>multi_context</td>\n",
       "      <td>True</td>\n",
       "    </tr>\n",
       "    <tr>\n",
       "      <th>7</th>\n",
       "      <td>Where are gains and losses on equity securitie...</td>\n",
       "      <td>[equity securities totaled $1.3 billion and $2...</td>\n",
       "      <td>Gains and losses on equity securities investme...</td>\n",
       "      <td>multi_context</td>\n",
       "      <td>True</td>\n",
       "    </tr>\n",
       "  </tbody>\n",
       "</table>\n",
       "</div>"
      ],
      "text/plain": [
       "                                            question  \\\n",
       "0  How has the NVIDIA accelerated computing platf...   \n",
       "1  What types of facilities are included in the l...   \n",
       "2  How can government actions impact a company's ...   \n",
       "3  What factors led to the determination that inv...   \n",
       "4  How does the company depend on external partie...   \n",
       "5  What are the potential consequences of export ...   \n",
       "6  What are the risks of estimating customer dema...   \n",
       "7  Where are gains and losses on equity securitie...   \n",
       "\n",
       "                                            contexts  \\\n",
       "0  [Table of Contents\\nAt the foundation of the N...   \n",
       "1  [Termination of the Arm Share Purchase Agreeme...   \n",
       "2  [business and results of operations.\\nGovernme...   \n",
       "3  [conditions. As of January 28, 2024, the Compa...   \n",
       "4  [Table of Contents\\nGPUs, which could negative...   \n",
       "5  [Additional unilateral or multilateral control...   \n",
       "6  [to some of ours and can use or develop their ...   \n",
       "7  [equity securities totaled $1.3 billion and $2...   \n",
       "\n",
       "                                        ground_truth evolution_type  \\\n",
       "0  The NVIDIA accelerated computing platform has ...         simple   \n",
       "1  The lease obligations of the company primarily...         simple   \n",
       "2  Government actions, including trade protection...      reasoning   \n",
       "3  The significant judgment by management when de...      reasoning   \n",
       "4  The company depends on developers, customers, ...  multi_context   \n",
       "5  Additional export restrictions and foreign gov...  multi_context   \n",
       "6  Failure to estimate customer demand accurately...  multi_context   \n",
       "7  Gains and losses on equity securities investme...  multi_context   \n",
       "\n",
       "   episode_done  \n",
       "0          True  \n",
       "1          True  \n",
       "2          True  \n",
       "3          True  \n",
       "4          True  \n",
       "5          True  \n",
       "6          True  \n",
       "7          True  "
      ]
     },
     "execution_count": 37,
     "metadata": {},
     "output_type": "execute_result"
    }
   ],
   "source": [
    "test_df = testset.to_pandas()\n",
    "test_df"
   ]
  },
  {
   "cell_type": "code",
   "execution_count": 38,
   "metadata": {},
   "outputs": [],
   "source": [
    "test_questions = test_df[\"question\"].values.tolist()\n",
    "test_groundtruths = test_df[\"ground_truth\"].values.tolist()"
   ]
  },
  {
   "cell_type": "markdown",
   "metadata": {},
   "source": [
    "#### Map over questions and build a response dataset"
   ]
  },
  {
   "cell_type": "code",
   "execution_count": 39,
   "metadata": {},
   "outputs": [],
   "source": [
    "answers = []\n",
    "contexts = []\n",
    "\n",
    "for question in test_questions:\n",
    "  response = retrieval_augmented_qa_chain.invoke({\"question\" : question})\n",
    "  answers.append(response[\"response\"].content)\n",
    "  contexts.append([context.page_content for context in response[\"context\"]])"
   ]
  },
  {
   "cell_type": "code",
   "execution_count": 40,
   "metadata": {},
   "outputs": [],
   "source": [
    "from datasets import Dataset\n",
    "\n",
    "response_dataset = Dataset.from_dict({\n",
    "    \"question\" : test_questions,\n",
    "    \"answer\" : answers,\n",
    "    \"contexts\" : contexts,\n",
    "    \"ground_truth\" : test_groundtruths\n",
    "})"
   ]
  },
  {
   "cell_type": "markdown",
   "metadata": {},
   "source": [
    "#### Build a map of metrics, and evaluate pipeline with RAGAS"
   ]
  },
  {
   "cell_type": "code",
   "execution_count": 41,
   "metadata": {},
   "outputs": [],
   "source": [
    "from ragas import evaluate\n",
    "from ragas.metrics import (\n",
    "    faithfulness,\n",
    "    answer_relevancy,\n",
    "    answer_correctness,\n",
    "    context_recall,\n",
    "    context_precision,\n",
    ")\n",
    "\n",
    "metrics = [\n",
    "    faithfulness,\n",
    "    answer_relevancy,\n",
    "    context_recall,\n",
    "    context_precision,\n",
    "    answer_correctness,\n",
    "]"
   ]
  },
  {
   "cell_type": "code",
   "execution_count": 42,
   "metadata": {},
   "outputs": [
    {
     "data": {
      "application/vnd.jupyter.widget-view+json": {
       "model_id": "b8387129214743508457b21703b6c066",
       "version_major": 2,
       "version_minor": 0
      },
      "text/plain": [
       "Evaluating:   0%|          | 0/40 [00:00<?, ?it/s]"
      ]
     },
     "metadata": {},
     "output_type": "display_data"
    }
   ],
   "source": [
    "results = evaluate(response_dataset, metrics)"
   ]
  },
  {
   "cell_type": "markdown",
   "metadata": {},
   "source": [
    "#### Inspect our results"
   ]
  },
  {
   "cell_type": "code",
   "execution_count": 43,
   "metadata": {},
   "outputs": [
    {
     "data": {
      "text/plain": [
       "{'faithfulness': 0.8571, 'answer_relevancy': 0.9305, 'context_recall': 0.8750, 'context_precision': 0.9306, 'answer_correctness': 0.6153}"
      ]
     },
     "execution_count": 43,
     "metadata": {},
     "output_type": "execute_result"
    }
   ],
   "source": [
    "results"
   ]
  },
  {
   "cell_type": "markdown",
   "metadata": {},
   "source": [
    "#### Tabulate our data for comparison"
   ]
  },
  {
   "cell_type": "code",
   "execution_count": 44,
   "metadata": {},
   "outputs": [
    {
     "data": {
      "text/html": [
       "<div>\n",
       "<style scoped>\n",
       "    .dataframe tbody tr th:only-of-type {\n",
       "        vertical-align: middle;\n",
       "    }\n",
       "\n",
       "    .dataframe tbody tr th {\n",
       "        vertical-align: top;\n",
       "    }\n",
       "\n",
       "    .dataframe thead th {\n",
       "        text-align: right;\n",
       "    }\n",
       "</style>\n",
       "<table border=\"1\" class=\"dataframe\">\n",
       "  <thead>\n",
       "    <tr style=\"text-align: right;\">\n",
       "      <th></th>\n",
       "      <th>question</th>\n",
       "      <th>answer</th>\n",
       "      <th>contexts</th>\n",
       "      <th>ground_truth</th>\n",
       "      <th>faithfulness</th>\n",
       "      <th>answer_relevancy</th>\n",
       "      <th>context_recall</th>\n",
       "      <th>context_precision</th>\n",
       "      <th>answer_correctness</th>\n",
       "    </tr>\n",
       "  </thead>\n",
       "  <tbody>\n",
       "    <tr>\n",
       "      <th>0</th>\n",
       "      <td>How has the NVIDIA accelerated computing platf...</td>\n",
       "      <td>The NVIDIA accelerated computing platform has ...</td>\n",
       "      <td>[Table of Contents\\nAt the foundation of the N...</td>\n",
       "      <td>The NVIDIA accelerated computing platform has ...</td>\n",
       "      <td>0.5</td>\n",
       "      <td>0.917183</td>\n",
       "      <td>1.0</td>\n",
       "      <td>1.000000</td>\n",
       "      <td>0.618457</td>\n",
       "    </tr>\n",
       "    <tr>\n",
       "      <th>1</th>\n",
       "      <td>What types of facilities are included in the l...</td>\n",
       "      <td>Data centers</td>\n",
       "      <td>[lease periods expiring between fiscal years 2...</td>\n",
       "      <td>The lease obligations of the company primarily...</td>\n",
       "      <td>NaN</td>\n",
       "      <td>0.843804</td>\n",
       "      <td>0.0</td>\n",
       "      <td>0.805556</td>\n",
       "      <td>0.504300</td>\n",
       "    </tr>\n",
       "    <tr>\n",
       "      <th>2</th>\n",
       "      <td>How can government actions impact a company's ...</td>\n",
       "      <td>Government actions such as trade protection po...</td>\n",
       "      <td>[business and results of operations.\\nGovernme...</td>\n",
       "      <td>Government actions, including trade protection...</td>\n",
       "      <td>1.0</td>\n",
       "      <td>0.946352</td>\n",
       "      <td>1.0</td>\n",
       "      <td>1.000000</td>\n",
       "      <td>0.439345</td>\n",
       "    </tr>\n",
       "    <tr>\n",
       "      <th>3</th>\n",
       "      <td>What factors led to the determination that inv...</td>\n",
       "      <td>The significant judgment by management when de...</td>\n",
       "      <td>[critical audit matter or on the accounts or d...</td>\n",
       "      <td>The significant judgment by management when de...</td>\n",
       "      <td>1.0</td>\n",
       "      <td>0.991135</td>\n",
       "      <td>1.0</td>\n",
       "      <td>1.000000</td>\n",
       "      <td>0.739978</td>\n",
       "    </tr>\n",
       "    <tr>\n",
       "      <th>4</th>\n",
       "      <td>How does the company depend on external partie...</td>\n",
       "      <td>The company depends on external parties for ac...</td>\n",
       "      <td>[computing processor products, and providers o...</td>\n",
       "      <td>The company depends on developers, customers, ...</td>\n",
       "      <td>0.5</td>\n",
       "      <td>0.888291</td>\n",
       "      <td>1.0</td>\n",
       "      <td>0.638889</td>\n",
       "      <td>0.473638</td>\n",
       "    </tr>\n",
       "    <tr>\n",
       "      <th>5</th>\n",
       "      <td>What are the potential consequences of export ...</td>\n",
       "      <td>The potential consequences include negatively ...</td>\n",
       "      <td>[Additional unilateral or multilateral control...</td>\n",
       "      <td>Additional export restrictions and foreign gov...</td>\n",
       "      <td>1.0</td>\n",
       "      <td>0.879061</td>\n",
       "      <td>1.0</td>\n",
       "      <td>1.000000</td>\n",
       "      <td>0.613397</td>\n",
       "    </tr>\n",
       "    <tr>\n",
       "      <th>6</th>\n",
       "      <td>What are the risks of estimating customer dema...</td>\n",
       "      <td>The risks of estimating customer demand accura...</td>\n",
       "      <td>[Many additional factors have caused and/or co...</td>\n",
       "      <td>Failure to estimate customer demand accurately...</td>\n",
       "      <td>1.0</td>\n",
       "      <td>0.993877</td>\n",
       "      <td>1.0</td>\n",
       "      <td>1.000000</td>\n",
       "      <td>0.533261</td>\n",
       "    </tr>\n",
       "    <tr>\n",
       "      <th>7</th>\n",
       "      <td>Where are gains and losses on equity securitie...</td>\n",
       "      <td>Gains and losses on equity securities investme...</td>\n",
       "      <td>[equity securities totaled $1.3 billion and $2...</td>\n",
       "      <td>Gains and losses on equity securities investme...</td>\n",
       "      <td>1.0</td>\n",
       "      <td>0.983971</td>\n",
       "      <td>1.0</td>\n",
       "      <td>1.000000</td>\n",
       "      <td>1.000000</td>\n",
       "    </tr>\n",
       "  </tbody>\n",
       "</table>\n",
       "</div>"
      ],
      "text/plain": [
       "                                            question  \\\n",
       "0  How has the NVIDIA accelerated computing platf...   \n",
       "1  What types of facilities are included in the l...   \n",
       "2  How can government actions impact a company's ...   \n",
       "3  What factors led to the determination that inv...   \n",
       "4  How does the company depend on external partie...   \n",
       "5  What are the potential consequences of export ...   \n",
       "6  What are the risks of estimating customer dema...   \n",
       "7  Where are gains and losses on equity securitie...   \n",
       "\n",
       "                                              answer  \\\n",
       "0  The NVIDIA accelerated computing platform has ...   \n",
       "1                                       Data centers   \n",
       "2  Government actions such as trade protection po...   \n",
       "3  The significant judgment by management when de...   \n",
       "4  The company depends on external parties for ac...   \n",
       "5  The potential consequences include negatively ...   \n",
       "6  The risks of estimating customer demand accura...   \n",
       "7  Gains and losses on equity securities investme...   \n",
       "\n",
       "                                            contexts  \\\n",
       "0  [Table of Contents\\nAt the foundation of the N...   \n",
       "1  [lease periods expiring between fiscal years 2...   \n",
       "2  [business and results of operations.\\nGovernme...   \n",
       "3  [critical audit matter or on the accounts or d...   \n",
       "4  [computing processor products, and providers o...   \n",
       "5  [Additional unilateral or multilateral control...   \n",
       "6  [Many additional factors have caused and/or co...   \n",
       "7  [equity securities totaled $1.3 billion and $2...   \n",
       "\n",
       "                                        ground_truth  faithfulness  \\\n",
       "0  The NVIDIA accelerated computing platform has ...           0.5   \n",
       "1  The lease obligations of the company primarily...           NaN   \n",
       "2  Government actions, including trade protection...           1.0   \n",
       "3  The significant judgment by management when de...           1.0   \n",
       "4  The company depends on developers, customers, ...           0.5   \n",
       "5  Additional export restrictions and foreign gov...           1.0   \n",
       "6  Failure to estimate customer demand accurately...           1.0   \n",
       "7  Gains and losses on equity securities investme...           1.0   \n",
       "\n",
       "   answer_relevancy  context_recall  context_precision  answer_correctness  \n",
       "0          0.917183             1.0           1.000000            0.618457  \n",
       "1          0.843804             0.0           0.805556            0.504300  \n",
       "2          0.946352             1.0           1.000000            0.439345  \n",
       "3          0.991135             1.0           1.000000            0.739978  \n",
       "4          0.888291             1.0           0.638889            0.473638  \n",
       "5          0.879061             1.0           1.000000            0.613397  \n",
       "6          0.993877             1.0           1.000000            0.533261  \n",
       "7          0.983971             1.0           1.000000            1.000000  "
      ]
     },
     "execution_count": 44,
     "metadata": {},
     "output_type": "execute_result"
    }
   ],
   "source": [
    "results_df = results.to_pandas()\n",
    "results_df"
   ]
  }
 ],
 "metadata": {
  "kernelspec": {
   "display_name": "llmops-course",
   "language": "python",
   "name": "python3"
  },
  "language_info": {
   "codemirror_mode": {
    "name": "ipython",
    "version": 3
   },
   "file_extension": ".py",
   "mimetype": "text/x-python",
   "name": "python",
   "nbconvert_exporter": "python",
   "pygments_lexer": "ipython3",
   "version": "3.11.7"
  }
 },
 "nbformat": 4,
 "nbformat_minor": 2
}
